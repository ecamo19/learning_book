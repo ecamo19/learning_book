{
 "cells": [
  {
   "cell_type": "markdown",
   "id": "dfe29d32-3669-46d1-9add-4cd3e3a301ec",
   "metadata": {},
   "source": [
    "Tabular data there is a relationship between the elements of a row. Each column corresponds to a different feature of the row. For example:"
   ]
  },
  {
   "cell_type": "markdown",
   "id": "c9ecdf56-040b-4cd6-91e6-3b4e467e1b63",
   "metadata": {},
   "source": [
    "Musician\t    |  State of Birth\n",
    "Miles Davis\t    |  Illinois\n",
    "John Coltrane\t|  North Carolina\n",
    "Duke Ellington\t|  Ohio\n",
    "Dizzy Gillespie\t|  South Carolina\n",
    "Thelonious Monk |  North Carolina\n",
    "\n",
    "This kind of table, with only two columns, represents a special relationship that mathematicians would call a __“map”__. This table maps states to state flowers, but many other relationships can be modeled with maps.\n",
    "\n",
    "When talking about a map we describe the inputs (jazz musicians, in this case) as the keys to the map. The output (here the state of origin) is said to be the value at a given key.\n",
    "\n",
    "In order for a relationship to be a __map__, every key that is used can only be the key to a __single value.__ \n"
   ]
  },
  {
   "cell_type": "markdown",
   "id": "5a8e8703-3d02-46b6-9967-b57c3bb4ebb6",
   "metadata": {},
   "source": [
    "For creating a hash map we use arrays bescause with these we can use the index for keep track of values in memory (index ==  key)."
   ]
  },
  {
   "cell_type": "markdown",
   "id": "1fc70880-27ee-4649-8c71-3cdc27ced55f",
   "metadata": {},
   "source": [
    "A __hashing function__ is a function that tranform a string (key) into a index.\n",
    "\n",
    "The most important aspect is that a hashing function returns an array index as output.\n",
    "\n",
    "The Hash map implementation needs to know the size of our array.\n",
    "\n",
    "In order for our hash map implementation to guarantee that it returns an index that fits into the underlying array, the hash function will first compute a value using some scoring metric: this is the hash value, hash code, or just the hash. Our hash map implementation then takes that hash value mod the size of the array. This guarantees that the value returned by the hash function can be used as an index into the array we’re using."
   ]
  },
  {
   "cell_type": "markdown",
   "id": "cab093ab-4d7b-4b46-8de2-8f545dab1222",
   "metadata": {},
   "source": [
    "# Hash Function example"
   ]
  },
  {
   "cell_type": "markdown",
   "id": "9d40b20d-e3f7-4dc4-99be-627035a46eb1",
   "metadata": {},
   "source": [
    "Key         =>  gar                \n",
    "\n",
    "Hashed into =>  [\"g\", \"a\", \"r\"]      \n",
    "\n",
    "code_point  =>  [\"103\", \"97\", \"114\"]  \n",
    "\n",
    "Add them up =>  103 + 97 + 114     \n",
    "\n",
    "Hash Value  =>  314                \n",
    "                                   \n",
    "                                  "
   ]
  },
  {
   "cell_type": "markdown",
   "id": "145eef6e-9d72-46fe-b060-dd515e26f7b6",
   "metadata": {},
   "source": [
    "__The storage location at the index given by a hash is called the hash bucket.__\n",
    "\n"
   ]
  },
  {
   "cell_type": "markdown",
   "id": "764bbd5c-bf56-424f-8101-e6dab0987932",
   "metadata": {},
   "source": [
    "Collisions\n",
    "\n",
    "Remember hash functions are designed to compress data from a large number of possible keys to a much smaller range. Because of this compression, it’s likely that our hash function might produce the same hash for two different keys. This is known as a hash collision. There are several strategies for resolving hash collisions.\n",
    "\n",
    "There are different hash collision strategies. Two important ones are separate chaining, where each array index points to a different data structure, and open addressing, where a collision triggers a probing sequence to find where to store the value for a given key."
   ]
  },
  {
   "cell_type": "markdown",
   "id": "5ff2c87e-774b-4b96-9f77-c713470c543b",
   "metadata": {},
   "source": [
    "Hash map: A key-value store that uses an array and a hashing function to save and retrieve values.\n",
    "Key: The identifier given to a value for later retrieval.\n",
    "Hash function: A function that takes some input and returns a number.\n",
    "Compression function: A function that transforms its inputs into some smaller range of possible outputs.\n",
    "\n",
    "Recipe for saving to a hash table:\n",
    "- Take the key and plug it into the hash function, getting the hash code.\n",
    "- Modulo that hash code by the length of the underlying array, getting an array index.\n",
    "- Check if the array at that index is empty, if so, save the value (and the key) there.\n",
    "- If the array is full at that index continue to the next possible position depending on your collision strategy.\n",
    "\n",
    "Recipe for retrieving from a hash table:\n",
    "- Take the key and plug it into the hash function, getting the hash code.\n",
    "- Modulo that hash code by the length of the underlying array, getting an array index.\n",
    "- Check if the array at that index has contents, if so, check the key saved there.\n",
    "- If the key matches the one you're looking for, return the value.\n",
    "- If the keys don't match, continue to the next position depending on your collision strategy.\n"
   ]
  }
 ],
 "metadata": {
  "kernelspec": {
   "display_name": "Python 3 (ipykernel)",
   "language": "python",
   "name": "python3"
  },
  "language_info": {
   "codemirror_mode": {
    "name": "ipython",
    "version": 3
   },
   "file_extension": ".py",
   "mimetype": "text/x-python",
   "name": "python",
   "nbconvert_exporter": "python",
   "pygments_lexer": "ipython3",
   "version": "3.9.5"
  },
  "widgets": {
   "application/vnd.jupyter.widget-state+json": {
    "state": {},
    "version_major": 2,
    "version_minor": 0
   }
  }
 },
 "nbformat": 4,
 "nbformat_minor": 5
}
