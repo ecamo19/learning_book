{
 "cells": [
  {
   "cell_type": "markdown",
   "id": "961b94b6-612c-4fe7-af36-b663fd3a496e",
   "metadata": {},
   "source": [
    "https://themockup.blog/posts/2020-12-13-extracting-json-from-websites-and-public-apis-with-r/"
   ]
  }
 ],
 "metadata": {
  "kernelspec": {
   "display_name": "R",
   "language": "R",
   "name": "ir"
  },
  "language_info": {
   "codemirror_mode": "r",
   "file_extension": ".r",
   "mimetype": "text/x-r-source",
   "name": "R",
   "pygments_lexer": "r",
   "version": "4.0.4"
  },
  "widgets": {
   "application/vnd.jupyter.widget-state+json": {
    "state": {},
    "version_major": 2,
    "version_minor": 0
   }
  }
 },
 "nbformat": 4,
 "nbformat_minor": 5
}
