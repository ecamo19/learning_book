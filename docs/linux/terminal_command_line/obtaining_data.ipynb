{
 "cells": [
  {
   "cell_type": "markdown",
   "id": "a864671f-d0db-4fc9-9ac5-8374e2c42673",
   "metadata": {},
   "source": [
    "# Obtaining data"
   ]
  },
  {
   "cell_type": "markdown",
   "id": "751ec729-def1-4d20-a3ae-285844c4f43f",
   "metadata": {},
   "source": [
    "## Copy local files to the Docker image"
   ]
  },
  {
   "cell_type": "markdown",
   "id": "166f3b09-45b1-457f-8b25-0d992d5fbddd",
   "metadata": {},
   "source": [
    "Files can be transferred in and out of the Docker container.\n"
   ]
  },
  {
   "cell_type": "code",
   "execution_count": null,
   "id": "03c84449-fb55-4e58-96e9-f91d9a0fde4f",
   "metadata": {},
   "outputs": [],
   "source": [
    "#docker ps to view listing which includes container_id\n",
    "docker cp foo.txt container"
   ]
  },
  {
   "cell_type": "markdown",
   "id": "1abee98c-6e37-4501-b7d7-2b957d95a587",
   "metadata": {},
   "source": [
    "## Curl "
   ]
  },
  {
   "cell_type": "code",
   "execution_count": null,
   "id": "3d1afb65-dd22-426c-a181-318a90116b99",
   "metadata": {},
   "outputs": [],
   "source": [
    "# Download a web page \n",
    "curl \"https://en.wikipedia.org/wiki/Costa_Rica\" | trim\n",
    "\n",
    "# Save, -s == silence progress meter\n",
    "curl -s \"https://en.wikipedia.org/wiki/Costa_Rica\" > costarica.html\n"
   ]
  },
  {
   "cell_type": "code",
   "execution_count": null,
   "id": "6b103300-9902-449f-a248-4913c9d949ed",
   "metadata": {},
   "outputs": [],
   "source": []
  },
  {
   "cell_type": "code",
   "execution_count": null,
   "id": "07d61a7c-ea3e-4aa4-a816-633a757d45f2",
   "metadata": {},
   "outputs": [],
   "source": []
  },
  {
   "cell_type": "code",
   "execution_count": null,
   "id": "3c5111d8-0d4c-4a52-9c0d-c9bcd734c1a9",
   "metadata": {},
   "outputs": [],
   "source": []
  },
  {
   "cell_type": "code",
   "execution_count": null,
   "id": "82ea7416-e411-4747-bc93-2a4084cdbe42",
   "metadata": {},
   "outputs": [],
   "source": []
  },
  {
   "cell_type": "code",
   "execution_count": null,
   "id": "6f7dfd5c-bd44-4441-b78a-ae0f485b0cd4",
   "metadata": {},
   "outputs": [],
   "source": []
  },
  {
   "cell_type": "code",
   "execution_count": null,
   "id": "4b29a655-a659-4a59-9f84-22ec4bba0b90",
   "metadata": {},
   "outputs": [],
   "source": []
  }
 ],
 "metadata": {
  "kernelspec": {
   "display_name": "Bash",
   "language": "bash",
   "name": "bash"
  },
  "language_info": {
   "codemirror_mode": "shell",
   "file_extension": ".sh",
   "mimetype": "text/x-sh",
   "name": "bash"
  }
 },
 "nbformat": 4,
 "nbformat_minor": 5
}
